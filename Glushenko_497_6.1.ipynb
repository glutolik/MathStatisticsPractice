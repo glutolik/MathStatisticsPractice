{
 "cells": [
  {
   "cell_type": "code",
   "execution_count": 1,
   "metadata": {
    "collapsed": false
   },
   "outputs": [
    {
     "name": "stdout",
     "output_type": "stream",
     "text": [
      "Populating the interactive namespace from numpy and matplotlib\n"
     ]
    }
   ],
   "source": [
    "import scipy.stats as sps\n",
    "import matplotlib.pyplot as plt\n",
    "import numpy as np\n",
    "%pylab inline"
   ]
  },
  {
   "cell_type": "markdown",
   "metadata": {},
   "source": [
    "$N_t - N_s \\~ Pois(\\lambda (s - t))$, $N_t - N_s$ и $N_s$ независимы<br>\n",
    "$E(N_t - N_s | N_s) = E(N_t - N_s) = \\lambda(t - s) $<br>\n",
    "$E(N_t - N_s | N_s) = E(N_t | N_s) - E(N_s | N_s) = E(N_t | N_s) - N_s$ <br>\n",
    "Следовательно $E(N_t | N_s) = \\lambda (t - s) + N_s$"
   ]
  },
  {
   "cell_type": "code",
   "execution_count": 20,
   "metadata": {
    "collapsed": false
   },
   "outputs": [
    {
     "name": "stdout",
     "output_type": "stream",
     "text": [
      "0 22.38\n",
      "1 22.007\n",
      "2 22.634\n",
      "3 22.261\n",
      "4 22.888\n",
      "5 22.515\n",
      "6 22.142\n",
      "7 21.769\n",
      "8 21.396\n",
      "9 21.023\n",
      "10 20.65\n",
      "11 21.277\n",
      "12 20.904\n",
      "13 20.531\n",
      "14 21.158\n",
      "15 20.785\n",
      "16 20.412\n",
      "17 20.039\n",
      "18 22.666\n",
      "19 22.293\n",
      "20 21.92\n",
      "21 21.547\n",
      "22 21.174\n",
      "23 20.801\n",
      "24 21.428\n",
      "25 23.055\n",
      "26 23.682\n",
      "27 23.309\n",
      "28 22.936\n",
      "29 22.563\n",
      "30 22.19\n",
      "31 21.817\n",
      "32 21.444\n",
      "33 22.071\n",
      "34 21.698\n",
      "35 21.325\n",
      "36 20.952\n",
      "37 20.579\n",
      "38 20.206\n",
      "39 20.833\n",
      "40 21.46\n",
      "41 22.087\n",
      "42 21.714\n",
      "43 21.341\n",
      "44 21.968\n",
      "45 21.595\n",
      "46 21.222\n",
      "47 21.849\n",
      "48 22.476\n",
      "49 24.103\n",
      "50 23.73\n",
      "51 24.357\n",
      "52 23.984\n",
      "53 24.611\n",
      "54 25.238\n",
      "55 24.865\n",
      "56 24.492\n",
      "57 26.119\n",
      "58 25.746\n",
      "59 25.373\n",
      "60 25.0\n"
     ]
    }
   ],
   "source": [
    "f = open('497 Глушенко Анатолий.txt', 'r')\n",
    "\n",
    "t = 60\n",
    "t0 = 1\n",
    "    \n",
    "br_time_moments = []\n",
    "for i in f:\n",
    "    br_time_moments.append(float(i))\n",
    "lambda_l = br_time_moments[0]\n",
    "br_time_moments = np.array(moments)\n",
    "    \n",
    "for i in range(t + 1): \n",
    "    print (i * t0, lambda_l * (t - t0 * i) + np.sum(br_time_moments <= t0 * i))\n",
    "        "
   ]
  },
  {
   "cell_type": "code",
   "execution_count": null,
   "metadata": {
    "collapsed": true
   },
   "outputs": [],
   "source": []
  }
 ],
 "metadata": {
  "kernelspec": {
   "display_name": "Python 3",
   "language": "python",
   "name": "python3"
  },
  "language_info": {
   "codemirror_mode": {
    "name": "ipython",
    "version": 3
   },
   "file_extension": ".py",
   "mimetype": "text/x-python",
   "name": "python",
   "nbconvert_exporter": "python",
   "pygments_lexer": "ipython3",
   "version": "3.5.1"
  }
 },
 "nbformat": 4,
 "nbformat_minor": 0
}
