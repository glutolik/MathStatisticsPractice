{
 "cells": [
  {
   "cell_type": "code",
   "execution_count": 1,
   "metadata": {
    "collapsed": true
   },
   "outputs": [],
   "source": [
    "import scipy.stats as sps\n",
    "import matplotlib.pylab as plt\n",
    "import numpy as np\n",
    "%matplotlib inline"
   ]
  },
  {
   "cell_type": "code",
   "execution_count": 46,
   "metadata": {
    "collapsed": false
   },
   "outputs": [],
   "source": [
    "f = open('497 Глушенко Анатолий.txt', 'r')\n",
    "\n",
    "t = 60\n",
    "t0 = 1\n",
    "    \n",
    "br_time_moments = []\n",
    "prev = 0\n",
    "for i in f:\n",
    "    tmp = prev\n",
    "    prev = float(i)\n",
    "    br_time_moments.append(prev - tmp)\n",
    "cumsum = np.cumsum(br_time_moments)\n",
    "max_lkh_est = np.array([abs(((i + 1) / cumsum[i])) for i in range (len(br_time_moments))])"
   ]
  },
  {
   "cell_type": "code",
   "execution_count": 53,
   "metadata": {
    "collapsed": true
   },
   "outputs": [],
   "source": [
    "def dev_est(shift_scale):\n",
    "    plt.figure(figsize = (15,5))\n",
    "    plt.plot(range(len(br_time_moments)), max_lkh_est, label = 'Max_Likelihood', linewidth=2)\n",
    "    \n",
    "    bayes_est = np.array([abs((shift_scale[0] + j) / \n",
    "                              (shift_scale[1] + cumsum[j]))\n",
    "                          for j in range (len(br_time_moments))])\n",
    "    \n",
    "    plt.plot(range(len(br_time_moments)), bayes_est)\n",
    "    plt.ylim((0, 2))\n",
    "    plt.show()"
   ]
  },
  {
   "cell_type": "code",
   "execution_count": 54,
   "metadata": {
    "collapsed": false
   },
   "outputs": [
    {
     "data": {
      "image/png": "[encoded data removed]",
      "text/plain": [
       "<matplotlib.figure.Figure at 0x51dfb3fb00>"
      ]
     },
     "metadata": {},
     "output_type": "display_data"
    }
   ],
   "source": [
    "dev_est([1, 3])"
   ]
  },
  {
   "cell_type": "markdown",
   "metadata": {},
   "source": [
    "$Вывод:$ Как видно из графика, при малых размерах выборки байесовская оценка намного лучше."
   ]
  },
  {
   "cell_type": "code",
   "execution_count": null,
   "metadata": {
    "collapsed": true
   },
   "outputs": [],
   "source": []
  }
 ],
 "metadata": {
  "kernelspec": {
   "display_name": "Python 3",
   "language": "python",
   "name": "python3"
  },
  "language_info": {
   "codemirror_mode": {
    "name": "ipython",
    "version": 3
   },
   "file_extension": ".py",
   "mimetype": "text/x-python",
   "name": "python",
   "nbconvert_exporter": "python",
   "pygments_lexer": "ipython3",
   "version": "3.5.1"
  }
 },
 "nbformat": 4,
 "nbformat_minor": 0
}
