{
 "cells": [
  {
   "cell_type": "code",
   "execution_count": 1,
   "metadata": {
    "collapsed": true
   },
   "outputs": [],
   "source": [
    "import scipy.stats as sps\n",
    "import matplotlib.pyplot as plt\n",
    "import numpy as np\n",
    "%matplotlib inline"
   ]
  },
  {
   "cell_type": "code",
   "execution_count": 104,
   "metadata": {
    "collapsed": false
   },
   "outputs": [],
   "source": [
    "f = open('497 Глушенко Анатолий 9_2.txt', 'r')\n",
    "X = list(map(float, f.readlines()))"
   ]
  },
  {
   "cell_type": "markdown",
   "metadata": {},
   "source": [
    " Считаем оценки $ \\hat{\\beta1} $  $ \\hat{\\beta2} $  $ \\hat{\\sigma^2} $ по методу наименьших квадратов. <br>\n",
    " Выражаем оценку $ \\hat{\\sigma^2_t} $ = $ \\frac{\\hat{\\sigma^2}}{(\\hat{\\beta2})^2} $ из условия $ \\varepsilon_i = \\varepsilon_i^t * \\beta2 $"
   ]
  },
  {
   "cell_type": "code",
   "execution_count": 108,
   "metadata": {
    "collapsed": false
   },
   "outputs": [],
   "source": [
    "Y = np.zeros(len(X))\n",
    "Y[0] = X[0]\n",
    "for i in range (1, len(X)):\n",
    "    Y[i] = X[i] - X[i-1]\n",
    "Z = np.zeros((len(X), 2))\n",
    "Z[0][0] = 1\n",
    "for i in range (1, len(X)):\n",
    "    Z[i][1] = 1\n",
    "\n",
    "theta_w_cap = np.matrix(np.dot(Z.T, Z))\n",
    "theta_w_cap = np.dot(theta_w_cap.I, Z.T)\n",
    "theta_w_cap = np.array(np.dot(theta_w_cap, Y))\n",
    "theta_w_cap = theta_w_cap.ravel()\n",
    "\n",
    "sigma_w_cap =  Y - np.dot(Z, theta_w_cap)\n",
    "sigma_w_cap = np.dot(sigma_w_cap.T, sigma_w_cap)/(len(X) - 2)\n",
    "sigma_w_cap_t = sigma_w_cap/theta_w_cap[1]**2"
   ]
  },
  {
   "cell_type": "code",
   "execution_count": 109,
   "metadata": {
    "collapsed": false
   },
   "outputs": [
    {
     "name": "stdout",
     "output_type": "stream",
     "text": [
      "beta1_w_cap: \t 231.01264\n",
      "beta2_w_cap: \t 8.22855235\n",
      "sigma_w_cap: \t 0.12576239211\n",
      "sigma_w_cap_t: \t 0.00185739347911\n"
     ]
    }
   ],
   "source": [
    "print(\"beta1_w_cap:\", \"\\t\", theta_w_cap[0])\n",
    "print(\"beta2_w_cap:\", \"\\t\", theta_w_cap[1])\n",
    "print(\"sigma_w_cap:\", \"\\t\", sigma_w_cap)\n",
    "print(\"sigma_w_cap_t:\", \"\\t\", sigma_w_cap_t)"
   ]
  },
  {
   "cell_type": "markdown",
   "metadata": {},
   "source": [
    "# Вывод: \n",
    "Т.к. дисперсия небольшая - оценка наименьших квадратов - хорошая."
   ]
  },
  {
   "cell_type": "code",
   "execution_count": 113,
   "metadata": {
    "collapsed": true
   },
   "outputs": [],
   "source": [
    "output = open(\"497 Глушенко Анатолий.txt\", 'w')\n",
    "output.write(str(theta_w_cap[0]) + \"\\n\")\n",
    "output.write(str(theta_w_cap[1]) + \"\\n\")\n",
    "output.write(str(sigma_w_cap) + \"\\n\")\n",
    "output.write(str(sigma_w_cap_t))\n",
    "output.close()"
   ]
  },
  {
   "cell_type": "code",
   "execution_count": null,
   "metadata": {
    "collapsed": true
   },
   "outputs": [],
   "source": []
  }
 ],
 "metadata": {
  "kernelspec": {
   "display_name": "Python 3",
   "language": "python",
   "name": "python3"
  },
  "language_info": {
   "codemirror_mode": {
    "name": "ipython",
    "version": 3
   },
   "file_extension": ".py",
   "mimetype": "text/x-python",
   "name": "python",
   "nbconvert_exporter": "python",
   "pygments_lexer": "ipython3",
   "version": "3.5.1"
  }
 },
 "nbformat": 4,
 "nbformat_minor": 0
}
